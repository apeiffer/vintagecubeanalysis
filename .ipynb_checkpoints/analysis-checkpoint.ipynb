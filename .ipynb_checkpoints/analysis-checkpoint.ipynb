{
 "cells": [
  {
   "cell_type": "code",
   "execution_count": 7,
   "metadata": {},
   "outputs": [],
   "source": [
    "import glob\n",
    "import openpyxl\n",
    "import pprint"
   ]
  },
  {
   "cell_type": "code",
   "execution_count": 27,
   "metadata": {},
   "outputs": [],
   "source": [
    "deck_names = glob.glob('data/*')\n",
    "\n",
    "drafts = 0\n",
    "\n",
    "g_wins, g_losses, m_wins, m_losses = 0, 0, 0, 0\n",
    "\n",
    "bin_0, bin_1, bin_2, bin_3 = 0, 0, 0, 0\n",
    "\n",
    "cards = {}\n",
    "decks = []"
   ]
  },
  {
   "cell_type": "code",
   "execution_count": 28,
   "metadata": {},
   "outputs": [],
   "source": [
    "for filename in deck_names:\n",
    "    drafts += 1\n",
    "    wb = openpyxl.load_workbook(filename)\n",
    "    ws = wb.active\n",
    "    first_line_read = False\n",
    "\n",
    "    for row in list(ws.values)[2:]:\n",
    "    # get the record from the first line - would like to do this inside its own function but i'm dumb\n",
    "    # and don't know how to do it so that the variables defined above are able to be accessed\n",
    "    # i.e., get_record(row[2:])\n",
    "        if not first_line_read:\n",
    "            vals = row[2:]\n",
    "            m1 = vals[0:2]\n",
    "            m2 = vals[2:4]\n",
    "            m3 = vals[4:6]\n",
    "\n",
    "            l_wins = 0\n",
    "\n",
    "            for match in [m1, m2, m3]:\n",
    "                g_wins += match[0]\n",
    "                g_losses += match[1]\n",
    "\n",
    "                if match[0] > match[1]:\n",
    "                    l_wins += 1\n",
    "\n",
    "            m_wins += l_wins\n",
    "            m_losses += (3 - l_wins)\n",
    "\n",
    "            if l_wins == 0:\n",
    "                bin_0 += 1\n",
    "            elif l_wins == 1:\n",
    "                bin_1 += 1\n",
    "            elif l_wins == 2:\n",
    "                bin_2 += 1\n",
    "            elif l_wins == 3:\n",
    "                bin_3 += 1\n",
    "\n",
    "            first_line_read = True\n",
    "\n",
    "    card = row[1]\n",
    "\n",
    "    if card != None:\n",
    "        card = card.lower()\n",
    "        if card not in cards:\n",
    "            cards[card] = {\n",
    "                  'total':  {'w': l_wins, 'l': (3 - l_wins)},\n",
    "                  filename: {'w': l_wins, 'l': (3 - l_wins)}}\n",
    "        else:\n",
    "            cards[card]['total']['w'] += l_wins\n",
    "            cards[card]['total']['l'] += (3 - l_wins)\n",
    "            cards[card][filename] = {'w': l_wins, 'l': (3 - l_wins)}\n"
   ]
  },
  {
   "cell_type": "code",
   "execution_count": 29,
   "metadata": {},
   "outputs": [
    {
     "name": "stdout",
     "output_type": "stream",
     "text": [
      "Drafts: 59\n",
      "\n",
      "Game record: 253 - 185 (57.76 %).\n",
      "Match record: 109 - 68 (61.58 %).\n",
      "\n",
      "Number of 0-3s: 4 (6.78 %).\n",
      "Number of 1-2s: 13 (22.03 %).\n",
      "Number of 2-1s: 30 (50.85 %).\n",
      "Number of 3-0s: 12 (20.34 %).\n"
     ]
    }
   ],
   "source": [
    "print(f'Total drafts: {drafts}\\n')\n",
    "\n",
    "print(f'Total game record: {int(g_wins)} - {int(g_losses)} ({100 * g_wins / (g_wins + g_losses):.2f}%).')\n",
    "print(f'Total match record: {m_wins} - {m_losses} ({100 * m_wins / (m_wins + m_losses):.2f}%).\\n')\n",
    "\n",
    "print(f'Number of 0-3s: {bin_0} ({100 * bin_0 / drafts:.2f} %).')\n",
    "print(f'Number of 1-2s: {bin_1} ({100 * bin_1 / drafts:.2f} %).')\n",
    "print(f'Number of 2-1s: {bin_2} ({100 * bin_2 / drafts:.2f} %).')\n",
    "print(f'Number of 3-0s: {bin_3} ({100 * bin_3 / drafts:.2f} %).')"
   ]
  }
 ],
 "metadata": {
  "kernelspec": {
   "display_name": "Python 3",
   "language": "python",
   "name": "python3"
  },
  "language_info": {
   "codemirror_mode": {
    "name": "ipython",
    "version": 3
   },
   "file_extension": ".py",
   "mimetype": "text/x-python",
   "name": "python",
   "nbconvert_exporter": "python",
   "pygments_lexer": "ipython3",
   "version": "3.8.3"
  }
 },
 "nbformat": 4,
 "nbformat_minor": 4
}
